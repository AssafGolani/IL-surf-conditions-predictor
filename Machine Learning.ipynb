{
 "cells": [
  {
   "cell_type": "markdown",
   "id": "004267a2",
   "metadata": {},
   "source": [
    "## Machine Learning Models!\n",
    "\n",
    "#### Goals: My aim is to predict Swell Height from this time series dataset.\n",
    "#### I'll be using 1.5 years of data and rest half a year for testing. (1/1/20-1/6/21 --> training, 2/6/21-31/12/21 --> testing)\n",
    "\n",
    "#### In order to evaluate how good the model is, I would be using R^2 and RMSE\n"
   ]
  },
  {
   "cell_type": "markdown",
   "id": "57d63557",
   "metadata": {},
   "source": [
    "#### After a few days of research, tyring several models and cv, searching and studying several approaches of how should I handle time series data analysis I'd like to give credit to the following source for being useful, understandable and most teaching one: \n",
    "https://towardsdatascience.com/time-series-modeling-using-scikit-pandas-and-numpy-682e3b8db8d1\n"
   ]
  },
  {
   "cell_type": "code",
   "execution_count": 1,
   "id": "3775ec16",
   "metadata": {},
   "outputs": [],
   "source": [
    "import pandas as pd\n",
    "import numpy as np\n",
    "import math\n",
    "import matplotlib as mpl\n",
    "import matplotlib.pyplot as plt\n",
    "from matplotlib.colors import Normalize\n",
    "import seaborn as sns\n",
    "import os\n",
    "from collections import Counter\n",
    "%matplotlib inline\n",
    "\n",
    "import sklearn\n",
    "from sklearn import svm\n",
    "from sklearn.svm import SVR\n",
    "from sklearn import linear_model, metrics, preprocessing\n",
    "from sklearn.linear_model import LinearRegression\n",
    "from sklearn.metrics import r2_score, make_scorer\n",
    "from sklearn.model_selection import TimeSeriesSplit,cross_val_score, GridSearchCV\n",
    "from sklearn.neural_network import MLPRegressor\n",
    "from sklearn.neighbors import KNeighborsRegressor\n",
    "from sklearn.ensemble import RandomForestRegressor\n",
    "\n",
    "pd.options.mode.chained_assignment = None"
   ]
  },
  {
   "cell_type": "code",
   "execution_count": 2,
   "id": "0c71b2a1",
   "metadata": {},
   "outputs": [
    {
     "data": {
      "text/html": [
       "<div>\n",
       "<style scoped>\n",
       "    .dataframe tbody tr th:only-of-type {\n",
       "        vertical-align: middle;\n",
       "    }\n",
       "\n",
       "    .dataframe tbody tr th {\n",
       "        vertical-align: top;\n",
       "    }\n",
       "\n",
       "    .dataframe thead th {\n",
       "        text-align: right;\n",
       "    }\n",
       "</style>\n",
       "<table border=\"1\" class=\"dataframe\">\n",
       "  <thead>\n",
       "    <tr style=\"text-align: right;\">\n",
       "      <th></th>\n",
       "      <th>date</th>\n",
       "      <th>swell_rating</th>\n",
       "      <th>primary_swell_height</th>\n",
       "      <th>primary_swell_period</th>\n",
       "    </tr>\n",
       "  </thead>\n",
       "  <tbody>\n",
       "    <tr>\n",
       "      <th>0</th>\n",
       "      <td>2020-01-01 02:00:00</td>\n",
       "      <td>1</td>\n",
       "      <td>1.0</td>\n",
       "      <td>8</td>\n",
       "    </tr>\n",
       "    <tr>\n",
       "      <th>1</th>\n",
       "      <td>2020-01-01 05:00:00</td>\n",
       "      <td>0</td>\n",
       "      <td>1.0</td>\n",
       "      <td>7</td>\n",
       "    </tr>\n",
       "    <tr>\n",
       "      <th>2</th>\n",
       "      <td>2020-01-01 08:00:00</td>\n",
       "      <td>1</td>\n",
       "      <td>0.9</td>\n",
       "      <td>7</td>\n",
       "    </tr>\n",
       "    <tr>\n",
       "      <th>3</th>\n",
       "      <td>2020-01-01 11:00:00</td>\n",
       "      <td>1</td>\n",
       "      <td>0.8</td>\n",
       "      <td>7</td>\n",
       "    </tr>\n",
       "    <tr>\n",
       "      <th>4</th>\n",
       "      <td>2020-01-01 14:00:00</td>\n",
       "      <td>0</td>\n",
       "      <td>0.8</td>\n",
       "      <td>7</td>\n",
       "    </tr>\n",
       "    <tr>\n",
       "      <th>...</th>\n",
       "      <td>...</td>\n",
       "      <td>...</td>\n",
       "      <td>...</td>\n",
       "      <td>...</td>\n",
       "    </tr>\n",
       "    <tr>\n",
       "      <th>9855</th>\n",
       "      <td>2021-12-30 15:00:00</td>\n",
       "      <td>1</td>\n",
       "      <td>0.7</td>\n",
       "      <td>8</td>\n",
       "    </tr>\n",
       "    <tr>\n",
       "      <th>9856</th>\n",
       "      <td>2021-12-30 21:00:00</td>\n",
       "      <td>0</td>\n",
       "      <td>0.9</td>\n",
       "      <td>7</td>\n",
       "    </tr>\n",
       "    <tr>\n",
       "      <th>9857</th>\n",
       "      <td>2021-12-31 09:00:00</td>\n",
       "      <td>1</td>\n",
       "      <td>1.1</td>\n",
       "      <td>7</td>\n",
       "    </tr>\n",
       "    <tr>\n",
       "      <th>9858</th>\n",
       "      <td>2021-12-31 15:00:00</td>\n",
       "      <td>1</td>\n",
       "      <td>0.9</td>\n",
       "      <td>8</td>\n",
       "    </tr>\n",
       "    <tr>\n",
       "      <th>9859</th>\n",
       "      <td>2021-12-31 18:00:00</td>\n",
       "      <td>1</td>\n",
       "      <td>0.9</td>\n",
       "      <td>8</td>\n",
       "    </tr>\n",
       "  </tbody>\n",
       "</table>\n",
       "<p>9860 rows × 4 columns</p>\n",
       "</div>"
      ],
      "text/plain": [
       "                     date  swell_rating  primary_swell_height  \\\n",
       "0     2020-01-01 02:00:00             1                   1.0   \n",
       "1     2020-01-01 05:00:00             0                   1.0   \n",
       "2     2020-01-01 08:00:00             1                   0.9   \n",
       "3     2020-01-01 11:00:00             1                   0.8   \n",
       "4     2020-01-01 14:00:00             0                   0.8   \n",
       "...                   ...           ...                   ...   \n",
       "9855  2021-12-30 15:00:00             1                   0.7   \n",
       "9856  2021-12-30 21:00:00             0                   0.9   \n",
       "9857  2021-12-31 09:00:00             1                   1.1   \n",
       "9858  2021-12-31 15:00:00             1                   0.9   \n",
       "9859  2021-12-31 18:00:00             1                   0.9   \n",
       "\n",
       "      primary_swell_period  \n",
       "0                        8  \n",
       "1                        7  \n",
       "2                        7  \n",
       "3                        7  \n",
       "4                        7  \n",
       "...                    ...  \n",
       "9855                     8  \n",
       "9856                     7  \n",
       "9857                     7  \n",
       "9858                     8  \n",
       "9859                     8  \n",
       "\n",
       "[9860 rows x 4 columns]"
      ]
     },
     "execution_count": 2,
     "metadata": {},
     "output_type": "execute_result"
    }
   ],
   "source": [
    "df = pd.read_csv('./for_MLtest.csv')\n",
    "del df[\"Unnamed: 0\"]\n",
    "df"
   ]
  },
  {
   "cell_type": "code",
   "execution_count": 3,
   "id": "e5c54e30",
   "metadata": {},
   "outputs": [
    {
     "name": "stdout",
     "output_type": "stream",
     "text": [
      "<class 'pandas.core.frame.DataFrame'>\n",
      "RangeIndex: 9860 entries, 0 to 9859\n",
      "Data columns (total 4 columns):\n",
      " #   Column                Non-Null Count  Dtype  \n",
      "---  ------                --------------  -----  \n",
      " 0   date                  9860 non-null   object \n",
      " 1   swell_rating          9860 non-null   int64  \n",
      " 2   primary_swell_height  9860 non-null   float64\n",
      " 3   primary_swell_period  9860 non-null   int64  \n",
      "dtypes: float64(1), int64(2), object(1)\n",
      "memory usage: 308.2+ KB\n"
     ]
    }
   ],
   "source": [
    "df.info()"
   ]
  },
  {
   "cell_type": "code",
   "execution_count": 4,
   "id": "067548ea",
   "metadata": {},
   "outputs": [],
   "source": [
    "df.index = pd.to_datetime(df.index)\n",
    "df = df.sort_index()\n"
   ]
  },
  {
   "cell_type": "code",
   "execution_count": 5,
   "id": "4296c7dc",
   "metadata": {},
   "outputs": [
    {
     "data": {
      "text/html": [
       "<div>\n",
       "<style scoped>\n",
       "    .dataframe tbody tr th:only-of-type {\n",
       "        vertical-align: middle;\n",
       "    }\n",
       "\n",
       "    .dataframe tbody tr th {\n",
       "        vertical-align: top;\n",
       "    }\n",
       "\n",
       "    .dataframe thead th {\n",
       "        text-align: right;\n",
       "    }\n",
       "</style>\n",
       "<table border=\"1\" class=\"dataframe\">\n",
       "  <thead>\n",
       "    <tr style=\"text-align: right;\">\n",
       "      <th></th>\n",
       "      <th>swell_rating</th>\n",
       "      <th>primary_swell_height</th>\n",
       "      <th>primary_swell_period</th>\n",
       "    </tr>\n",
       "    <tr>\n",
       "      <th>date</th>\n",
       "      <th></th>\n",
       "      <th></th>\n",
       "      <th></th>\n",
       "    </tr>\n",
       "  </thead>\n",
       "  <tbody>\n",
       "    <tr>\n",
       "      <th>2020-01-01 02:00:00</th>\n",
       "      <td>1</td>\n",
       "      <td>1.0</td>\n",
       "      <td>8</td>\n",
       "    </tr>\n",
       "    <tr>\n",
       "      <th>2020-01-01 05:00:00</th>\n",
       "      <td>0</td>\n",
       "      <td>1.0</td>\n",
       "      <td>7</td>\n",
       "    </tr>\n",
       "    <tr>\n",
       "      <th>2020-01-01 08:00:00</th>\n",
       "      <td>1</td>\n",
       "      <td>0.9</td>\n",
       "      <td>7</td>\n",
       "    </tr>\n",
       "    <tr>\n",
       "      <th>2020-01-01 11:00:00</th>\n",
       "      <td>1</td>\n",
       "      <td>0.8</td>\n",
       "      <td>7</td>\n",
       "    </tr>\n",
       "    <tr>\n",
       "      <th>2020-01-01 14:00:00</th>\n",
       "      <td>0</td>\n",
       "      <td>0.8</td>\n",
       "      <td>7</td>\n",
       "    </tr>\n",
       "    <tr>\n",
       "      <th>...</th>\n",
       "      <td>...</td>\n",
       "      <td>...</td>\n",
       "      <td>...</td>\n",
       "    </tr>\n",
       "    <tr>\n",
       "      <th>2021-12-30 15:00:00</th>\n",
       "      <td>1</td>\n",
       "      <td>0.7</td>\n",
       "      <td>8</td>\n",
       "    </tr>\n",
       "    <tr>\n",
       "      <th>2021-12-30 21:00:00</th>\n",
       "      <td>0</td>\n",
       "      <td>0.9</td>\n",
       "      <td>7</td>\n",
       "    </tr>\n",
       "    <tr>\n",
       "      <th>2021-12-31 09:00:00</th>\n",
       "      <td>1</td>\n",
       "      <td>1.1</td>\n",
       "      <td>7</td>\n",
       "    </tr>\n",
       "    <tr>\n",
       "      <th>2021-12-31 15:00:00</th>\n",
       "      <td>1</td>\n",
       "      <td>0.9</td>\n",
       "      <td>8</td>\n",
       "    </tr>\n",
       "    <tr>\n",
       "      <th>2021-12-31 18:00:00</th>\n",
       "      <td>1</td>\n",
       "      <td>0.9</td>\n",
       "      <td>8</td>\n",
       "    </tr>\n",
       "  </tbody>\n",
       "</table>\n",
       "<p>9860 rows × 3 columns</p>\n",
       "</div>"
      ],
      "text/plain": [
       "                     swell_rating  primary_swell_height  primary_swell_period\n",
       "date                                                                         \n",
       "2020-01-01 02:00:00             1                   1.0                     8\n",
       "2020-01-01 05:00:00             0                   1.0                     7\n",
       "2020-01-01 08:00:00             1                   0.9                     7\n",
       "2020-01-01 11:00:00             1                   0.8                     7\n",
       "2020-01-01 14:00:00             0                   0.8                     7\n",
       "...                           ...                   ...                   ...\n",
       "2021-12-30 15:00:00             1                   0.7                     8\n",
       "2021-12-30 21:00:00             0                   0.9                     7\n",
       "2021-12-31 09:00:00             1                   1.1                     7\n",
       "2021-12-31 15:00:00             1                   0.9                     8\n",
       "2021-12-31 18:00:00             1                   0.9                     8\n",
       "\n",
       "[9860 rows x 3 columns]"
      ]
     },
     "execution_count": 5,
     "metadata": {},
     "output_type": "execute_result"
    }
   ],
   "source": [
    "df['date'] = pd.DatetimeIndex(df['date'])\n",
    "df = df.set_index('date')\n",
    "df"
   ]
  },
  {
   "cell_type": "markdown",
   "id": "957acc77",
   "metadata": {},
   "source": [
    "#### In order to print all performace metrics that relevant to a regression task there's the following regression_results function."
   ]
  },
  {
   "cell_type": "code",
   "execution_count": 6,
   "id": "8640d14a",
   "metadata": {},
   "outputs": [],
   "source": [
    "def regression_results(y_true, y_pred):\n",
    "    # Regression metrics\n",
    "    explained_variance=metrics.explained_variance_score(y_true, y_pred)\n",
    "    mean_absolute_error=metrics.mean_absolute_error(y_true, y_pred) \n",
    "    mse=metrics.mean_squared_error(y_true, y_pred) \n",
    "    mean_squared_log_error=metrics.mean_squared_log_error(y_true, y_pred)\n",
    "    median_absolute_error=metrics.median_absolute_error(y_true, y_pred)\n",
    "    r2=metrics.r2_score(y_true, y_pred)\n",
    "    print('explained_variance: ', round(explained_variance,4))    \n",
    "    print('mean_squared_log_error: ', round(mean_squared_log_error,4))\n",
    "    print('r2: ', round(r2,4))\n",
    "    print('MAE: ', round(mean_absolute_error,4))\n",
    "    print('MSE: ', round(mse,4))\n",
    "    print('RMSE: ', round(np.sqrt(mse),4))"
   ]
  },
  {
   "cell_type": "markdown",
   "id": "91114382",
   "metadata": {},
   "source": [
    "### Feature Engineering\n",
    "#### I choose a simplistic model, one that predicts today's swell height value based on:\n",
    "##### * yesterday's swell height value\n",
    "##### * difference between yesterday and the day before yesterday's swell height value"
   ]
  },
  {
   "cell_type": "code",
   "execution_count": 7,
   "id": "e1d4c0bc",
   "metadata": {},
   "outputs": [],
   "source": [
    "data_SH = df[['primary_swell_height']]\n",
    "\n",
    "data_SH.loc[:,'Yesterday'] = data_SH.loc[:,'primary_swell_height'].shift()\n",
    "\n",
    "\n",
    "data_SH.loc[:,'Yesterday_Diff'] = data_SH.loc[:,'Yesterday'].diff()\n",
    "\n",
    "data_SH = data_SH.dropna()"
   ]
  },
  {
   "cell_type": "code",
   "execution_count": 8,
   "id": "72ea32cc",
   "metadata": {},
   "outputs": [
    {
     "data": {
      "text/html": [
       "<div>\n",
       "<style scoped>\n",
       "    .dataframe tbody tr th:only-of-type {\n",
       "        vertical-align: middle;\n",
       "    }\n",
       "\n",
       "    .dataframe tbody tr th {\n",
       "        vertical-align: top;\n",
       "    }\n",
       "\n",
       "    .dataframe thead th {\n",
       "        text-align: right;\n",
       "    }\n",
       "</style>\n",
       "<table border=\"1\" class=\"dataframe\">\n",
       "  <thead>\n",
       "    <tr style=\"text-align: right;\">\n",
       "      <th></th>\n",
       "      <th>primary_swell_height</th>\n",
       "      <th>Yesterday</th>\n",
       "      <th>Yesterday_Diff</th>\n",
       "    </tr>\n",
       "    <tr>\n",
       "      <th>date</th>\n",
       "      <th></th>\n",
       "      <th></th>\n",
       "      <th></th>\n",
       "    </tr>\n",
       "  </thead>\n",
       "  <tbody>\n",
       "    <tr>\n",
       "      <th>2020-01-01 08:00:00</th>\n",
       "      <td>0.9</td>\n",
       "      <td>1.0</td>\n",
       "      <td>0.0</td>\n",
       "    </tr>\n",
       "    <tr>\n",
       "      <th>2020-01-01 11:00:00</th>\n",
       "      <td>0.8</td>\n",
       "      <td>0.9</td>\n",
       "      <td>-0.1</td>\n",
       "    </tr>\n",
       "    <tr>\n",
       "      <th>2020-01-01 14:00:00</th>\n",
       "      <td>0.8</td>\n",
       "      <td>0.8</td>\n",
       "      <td>-0.1</td>\n",
       "    </tr>\n",
       "    <tr>\n",
       "      <th>2020-01-01 17:00:00</th>\n",
       "      <td>0.7</td>\n",
       "      <td>0.8</td>\n",
       "      <td>0.0</td>\n",
       "    </tr>\n",
       "    <tr>\n",
       "      <th>2020-01-01 20:00:00</th>\n",
       "      <td>0.7</td>\n",
       "      <td>0.7</td>\n",
       "      <td>-0.1</td>\n",
       "    </tr>\n",
       "    <tr>\n",
       "      <th>...</th>\n",
       "      <td>...</td>\n",
       "      <td>...</td>\n",
       "      <td>...</td>\n",
       "    </tr>\n",
       "    <tr>\n",
       "      <th>2021-12-30 15:00:00</th>\n",
       "      <td>0.7</td>\n",
       "      <td>0.3</td>\n",
       "      <td>-0.2</td>\n",
       "    </tr>\n",
       "    <tr>\n",
       "      <th>2021-12-30 21:00:00</th>\n",
       "      <td>0.9</td>\n",
       "      <td>0.7</td>\n",
       "      <td>0.4</td>\n",
       "    </tr>\n",
       "    <tr>\n",
       "      <th>2021-12-31 09:00:00</th>\n",
       "      <td>1.1</td>\n",
       "      <td>0.9</td>\n",
       "      <td>0.2</td>\n",
       "    </tr>\n",
       "    <tr>\n",
       "      <th>2021-12-31 15:00:00</th>\n",
       "      <td>0.9</td>\n",
       "      <td>1.1</td>\n",
       "      <td>0.2</td>\n",
       "    </tr>\n",
       "    <tr>\n",
       "      <th>2021-12-31 18:00:00</th>\n",
       "      <td>0.9</td>\n",
       "      <td>0.9</td>\n",
       "      <td>-0.2</td>\n",
       "    </tr>\n",
       "  </tbody>\n",
       "</table>\n",
       "<p>9858 rows × 3 columns</p>\n",
       "</div>"
      ],
      "text/plain": [
       "                     primary_swell_height  Yesterday  Yesterday_Diff\n",
       "date                                                                \n",
       "2020-01-01 08:00:00                   0.9        1.0             0.0\n",
       "2020-01-01 11:00:00                   0.8        0.9            -0.1\n",
       "2020-01-01 14:00:00                   0.8        0.8            -0.1\n",
       "2020-01-01 17:00:00                   0.7        0.8             0.0\n",
       "2020-01-01 20:00:00                   0.7        0.7            -0.1\n",
       "...                                   ...        ...             ...\n",
       "2021-12-30 15:00:00                   0.7        0.3            -0.2\n",
       "2021-12-30 21:00:00                   0.9        0.7             0.4\n",
       "2021-12-31 09:00:00                   1.1        0.9             0.2\n",
       "2021-12-31 15:00:00                   0.9        1.1             0.2\n",
       "2021-12-31 18:00:00                   0.9        0.9            -0.2\n",
       "\n",
       "[9858 rows x 3 columns]"
      ]
     },
     "execution_count": 8,
     "metadata": {},
     "output_type": "execute_result"
    }
   ],
   "source": [
    "data_SH\n"
   ]
  },
  {
   "cell_type": "markdown",
   "id": "b4d7bc38",
   "metadata": {},
   "source": [
    "### Defining training and test sets"
   ]
  },
  {
   "cell_type": "code",
   "execution_count": 9,
   "id": "219d3980",
   "metadata": {},
   "outputs": [],
   "source": [
    "X_train = data_SH.loc[:'2021-06-01'].drop(['primary_swell_height'], axis = 1)\n",
    "y_train = data_SH.loc[:'2021-06-01', 'primary_swell_height']\n",
    "X_test = data_SH.loc['2021-06-02':'2021-12-31 00:00:00'].drop(['primary_swell_height'], axis = 1)\n",
    "y_test = data_SH.loc['2021-06-02':'2021-12-31 00:00:00', 'primary_swell_height']"
   ]
  },
  {
   "cell_type": "markdown",
   "id": "7e5f49ef",
   "metadata": {},
   "source": [
    "### Check Algorithms\n",
    "#### Notice: to optimize Cross Validation on time-series dataset I use technique called Forward Chaining strategy,  this way successive training sets are supersets of those that come before them. sklearn has a provision for implementing it using TimeSeriesSplit. It takes input as number of splits."
   ]
  },
  {
   "cell_type": "code",
   "execution_count": 10,
   "id": "11896dfa",
   "metadata": {},
   "outputs": [],
   "source": [
    "models = []\n",
    "models.append(('LR', LinearRegression()))\n",
    "models.append(('NN', MLPRegressor(solver = 'lbfgs', max_iter=1000)))  #neural network\n",
    "models.append(('KNN', KNeighborsRegressor())) \n",
    "models.append(('RF', RandomForestRegressor(n_estimators = 10))) # Ensemble method - collection of many decision trees\n",
    "models.append(('SVR', SVR(gamma='auto'))) # kernel = linear"
   ]
  },
  {
   "cell_type": "code",
   "execution_count": 11,
   "id": "b8c91ad9",
   "metadata": {},
   "outputs": [
    {
     "name": "stdout",
     "output_type": "stream",
     "text": [
      "LR: 0.850122 (0.056061)\n",
      "NN: 0.844237 (0.052109)\n",
      "KNN: 0.812036 (0.066824)\n",
      "RF: 0.833202 (0.055524)\n",
      "SVR: 0.855298 (0.052778)\n"
     ]
    },
    {
     "data": {
      "image/png": "[encoded data removed]",
      "text/plain": [
       "<Figure size 432x288 with 1 Axes>"
      ]
     },
     "metadata": {
      "needs_background": "light"
     },
     "output_type": "display_data"
    }
   ],
   "source": [
    "results = []\n",
    "names = []\n",
    "for name, model in models:\n",
    "    # TimeSeries Cross validation\n",
    "    tscv = TimeSeriesSplit(n_splits=10)\n",
    "    cv_results = cross_val_score(model, X_train, y_train, cv=tscv, scoring='r2')\n",
    "    results.append(cv_results)\n",
    "    names.append(name)\n",
    "    print('%s: %f (%f)' % (name, cv_results.mean(), cv_results.std()))\n",
    "    \n",
    "# Compare Algorithms\n",
    "plt.boxplot(results, labels=names)\n",
    "plt.title('Algorithm Comparison')\n",
    "plt.show()"
   ]
  },
  {
   "cell_type": "markdown",
   "id": "cfaee197",
   "metadata": {},
   "source": [
    "### Defining custom scorer by setting scoring = rmse_score, define custom scorer as:"
   ]
  },
  {
   "cell_type": "code",
   "execution_count": 12,
   "id": "4d1757cf",
   "metadata": {},
   "outputs": [],
   "source": [
    "def rmse(actual, predict):\n",
    "    predict = np.array(predict)\n",
    "    actual = np.array(actual)\n",
    "    distance = predict - actual\n",
    "    square_distance = distance ** 2\n",
    "    mean_square_distance = square_distance.mean()\n",
    "    score = np.sqrt(mean_square_distance)\n",
    "    return score\n",
    "rmse_score = make_scorer(rmse, greater_is_better = False)"
   ]
  },
  {
   "cell_type": "markdown",
   "id": "fd957716",
   "metadata": {},
   "source": [
    "### Grid Searching Hyperparameters\n",
    "#### An optimal combination of hyperparameters maximizes a model's performance without leading to overfitting.\n",
    "#### I chose useing Rnadom Forest model because it has superior prediction powers and it ensures that there won't be overfitting due to the fact that it uses majority voting"
   ]
  },
  {
   "cell_type": "code",
   "execution_count": 13,
   "id": "f13d4fe6",
   "metadata": {},
   "outputs": [],
   "source": [
    "model = RandomForestRegressor()\n",
    "param_search = { \n",
    "    'n_estimators': [20, 50, 100],\n",
    "    'max_features': ['auto', 'sqrt', 'log2'],\n",
    "    'max_depth' : [i for i in range(5,15)]\n",
    "}\n",
    "tscv = TimeSeriesSplit(n_splits=10)\n",
    "gsearch = GridSearchCV(estimator=model, cv=tscv, param_grid=param_search, scoring = rmse_score)\n",
    "gsearch.fit(X_train, y_train)\n",
    "best_score = gsearch.best_score_\n",
    "best_model = gsearch.best_estimator_"
   ]
  },
  {
   "cell_type": "markdown",
   "id": "0a8c17c4",
   "metadata": {},
   "source": [
    "### Checking best model performance on test data"
   ]
  },
  {
   "cell_type": "code",
   "execution_count": 14,
   "id": "e68774cb",
   "metadata": {},
   "outputs": [
    {
     "name": "stdout",
     "output_type": "stream",
     "text": [
      "explained_variance:  0.8748\n",
      "mean_squared_log_error:  0.0084\n",
      "r2:  0.8748\n",
      "MAE:  0.101\n",
      "MSE:  0.0313\n",
      "RMSE:  0.177\n"
     ]
    }
   ],
   "source": [
    "y_true = y_test.values\n",
    "y_pred = best_model.predict(X_test)\n",
    "regression_results(y_true, y_pred)"
   ]
  },
  {
   "cell_type": "code",
   "execution_count": 15,
   "id": "c5133d9d",
   "metadata": {},
   "outputs": [
    {
     "data": {
      "image/png": "[encoded data removed]",
      "text/plain": [
       "<Figure size 432x288 with 1 Axes>"
      ]
     },
     "metadata": {
      "needs_background": "light"
     },
     "output_type": "display_data"
    }
   ],
   "source": [
    "plt.scatter(y_test, y_pred, color='black')\n",
    "plt.plot(y_test, y_test, color='red', linewidth=2)\n",
    "plt.title('Random Forest on swell height prediction')\n",
    "plt.xlabel('Real values')\n",
    "plt.ylabel('Prediction')\n",
    "plt.show()"
   ]
  },
  {
   "cell_type": "markdown",
   "id": "a3abec83",
   "metadata": {},
   "source": [
    "### Now lets also use values from (today - 2) to predict Swell Height:"
   ]
  },
  {
   "cell_type": "code",
   "execution_count": 16,
   "id": "1c2c8b9a",
   "metadata": {},
   "outputs": [],
   "source": [
    "# creating copy of original dataframe\n",
    "data_SH_2o = data_SH.copy()\n",
    "# inserting column with yesterday-1 values\n",
    "data_SH_2o['Yesterday-1'] = data_SH_2o['Yesterday'].shift()\n",
    "# inserting column with difference in yesterday-1 and yesterday-2 values.\n",
    "data_SH_2o['Yesterday-1_Diff'] = data_SH_2o['Yesterday-1'].diff()\n",
    "# dropping NAs\n",
    "data_SH_2o = data_SH_2o.dropna()"
   ]
  },
  {
   "cell_type": "code",
   "execution_count": 17,
   "id": "86527d52",
   "metadata": {},
   "outputs": [
    {
     "data": {
      "text/html": [
       "<div>\n",
       "<style scoped>\n",
       "    .dataframe tbody tr th:only-of-type {\n",
       "        vertical-align: middle;\n",
       "    }\n",
       "\n",
       "    .dataframe tbody tr th {\n",
       "        vertical-align: top;\n",
       "    }\n",
       "\n",
       "    .dataframe thead th {\n",
       "        text-align: right;\n",
       "    }\n",
       "</style>\n",
       "<table border=\"1\" class=\"dataframe\">\n",
       "  <thead>\n",
       "    <tr style=\"text-align: right;\">\n",
       "      <th></th>\n",
       "      <th>primary_swell_height</th>\n",
       "      <th>Yesterday</th>\n",
       "      <th>Yesterday_Diff</th>\n",
       "      <th>Yesterday-1</th>\n",
       "      <th>Yesterday-1_Diff</th>\n",
       "    </tr>\n",
       "    <tr>\n",
       "      <th>date</th>\n",
       "      <th></th>\n",
       "      <th></th>\n",
       "      <th></th>\n",
       "      <th></th>\n",
       "      <th></th>\n",
       "    </tr>\n",
       "  </thead>\n",
       "  <tbody>\n",
       "    <tr>\n",
       "      <th>2020-01-01 14:00:00</th>\n",
       "      <td>0.8</td>\n",
       "      <td>0.8</td>\n",
       "      <td>-0.1</td>\n",
       "      <td>0.9</td>\n",
       "      <td>-0.1</td>\n",
       "    </tr>\n",
       "    <tr>\n",
       "      <th>2020-01-01 17:00:00</th>\n",
       "      <td>0.7</td>\n",
       "      <td>0.8</td>\n",
       "      <td>0.0</td>\n",
       "      <td>0.8</td>\n",
       "      <td>-0.1</td>\n",
       "    </tr>\n",
       "    <tr>\n",
       "      <th>2020-01-01 20:00:00</th>\n",
       "      <td>0.7</td>\n",
       "      <td>0.7</td>\n",
       "      <td>-0.1</td>\n",
       "      <td>0.8</td>\n",
       "      <td>0.0</td>\n",
       "    </tr>\n",
       "    <tr>\n",
       "      <th>2020-01-01 23:00:00</th>\n",
       "      <td>0.7</td>\n",
       "      <td>0.7</td>\n",
       "      <td>0.0</td>\n",
       "      <td>0.7</td>\n",
       "      <td>-0.1</td>\n",
       "    </tr>\n",
       "    <tr>\n",
       "      <th>2020-01-02 02:00:00</th>\n",
       "      <td>0.7</td>\n",
       "      <td>0.7</td>\n",
       "      <td>0.0</td>\n",
       "      <td>0.7</td>\n",
       "      <td>0.0</td>\n",
       "    </tr>\n",
       "    <tr>\n",
       "      <th>...</th>\n",
       "      <td>...</td>\n",
       "      <td>...</td>\n",
       "      <td>...</td>\n",
       "      <td>...</td>\n",
       "      <td>...</td>\n",
       "    </tr>\n",
       "    <tr>\n",
       "      <th>2021-12-30 15:00:00</th>\n",
       "      <td>0.7</td>\n",
       "      <td>0.3</td>\n",
       "      <td>-0.2</td>\n",
       "      <td>0.5</td>\n",
       "      <td>0.0</td>\n",
       "    </tr>\n",
       "    <tr>\n",
       "      <th>2021-12-30 21:00:00</th>\n",
       "      <td>0.9</td>\n",
       "      <td>0.7</td>\n",
       "      <td>0.4</td>\n",
       "      <td>0.3</td>\n",
       "      <td>-0.2</td>\n",
       "    </tr>\n",
       "    <tr>\n",
       "      <th>2021-12-31 09:00:00</th>\n",
       "      <td>1.1</td>\n",
       "      <td>0.9</td>\n",
       "      <td>0.2</td>\n",
       "      <td>0.7</td>\n",
       "      <td>0.4</td>\n",
       "    </tr>\n",
       "    <tr>\n",
       "      <th>2021-12-31 15:00:00</th>\n",
       "      <td>0.9</td>\n",
       "      <td>1.1</td>\n",
       "      <td>0.2</td>\n",
       "      <td>0.9</td>\n",
       "      <td>0.2</td>\n",
       "    </tr>\n",
       "    <tr>\n",
       "      <th>2021-12-31 18:00:00</th>\n",
       "      <td>0.9</td>\n",
       "      <td>0.9</td>\n",
       "      <td>-0.2</td>\n",
       "      <td>1.1</td>\n",
       "      <td>0.2</td>\n",
       "    </tr>\n",
       "  </tbody>\n",
       "</table>\n",
       "<p>9856 rows × 5 columns</p>\n",
       "</div>"
      ],
      "text/plain": [
       "                     primary_swell_height  Yesterday  Yesterday_Diff  \\\n",
       "date                                                                   \n",
       "2020-01-01 14:00:00                   0.8        0.8            -0.1   \n",
       "2020-01-01 17:00:00                   0.7        0.8             0.0   \n",
       "2020-01-01 20:00:00                   0.7        0.7            -0.1   \n",
       "2020-01-01 23:00:00                   0.7        0.7             0.0   \n",
       "2020-01-02 02:00:00                   0.7        0.7             0.0   \n",
       "...                                   ...        ...             ...   \n",
       "2021-12-30 15:00:00                   0.7        0.3            -0.2   \n",
       "2021-12-30 21:00:00                   0.9        0.7             0.4   \n",
       "2021-12-31 09:00:00                   1.1        0.9             0.2   \n",
       "2021-12-31 15:00:00                   0.9        1.1             0.2   \n",
       "2021-12-31 18:00:00                   0.9        0.9            -0.2   \n",
       "\n",
       "                     Yesterday-1  Yesterday-1_Diff  \n",
       "date                                                \n",
       "2020-01-01 14:00:00          0.9              -0.1  \n",
       "2020-01-01 17:00:00          0.8              -0.1  \n",
       "2020-01-01 20:00:00          0.8               0.0  \n",
       "2020-01-01 23:00:00          0.7              -0.1  \n",
       "2020-01-02 02:00:00          0.7               0.0  \n",
       "...                          ...               ...  \n",
       "2021-12-30 15:00:00          0.5               0.0  \n",
       "2021-12-30 21:00:00          0.3              -0.2  \n",
       "2021-12-31 09:00:00          0.7               0.4  \n",
       "2021-12-31 15:00:00          0.9               0.2  \n",
       "2021-12-31 18:00:00          1.1               0.2  \n",
       "\n",
       "[9856 rows x 5 columns]"
      ]
     },
     "execution_count": 17,
     "metadata": {},
     "output_type": "execute_result"
    }
   ],
   "source": [
    "data_SH_2o"
   ]
  },
  {
   "cell_type": "markdown",
   "id": "e002d4bd",
   "metadata": {},
   "source": [
    "### Updating the train and test sets"
   ]
  },
  {
   "cell_type": "code",
   "execution_count": 18,
   "id": "99e06d9e",
   "metadata": {},
   "outputs": [],
   "source": [
    "X_train_2o = data_SH.loc[:'2021-06-01'].drop(['primary_swell_height'], axis = 1)\n",
    "y_train_2o = data_SH.loc[:'2021-06-01', 'primary_swell_height']\n",
    "X_test = data_SH.loc['2021-06-02':'2021-12-31 00:00:00'].drop(['primary_swell_height'], axis = 1)\n",
    "y_test = data_SH.loc['2021-06-02':'2021-12-31 00:00:00', 'primary_swell_height']"
   ]
  },
  {
   "cell_type": "markdown",
   "id": "70f0ffbf",
   "metadata": {},
   "source": [
    "### Lets see if we can perform better according to our new predictors"
   ]
  },
  {
   "cell_type": "code",
   "execution_count": 19,
   "id": "0976087c",
   "metadata": {},
   "outputs": [
    {
     "name": "stdout",
     "output_type": "stream",
     "text": [
      "explained_variance:  0.8756\n",
      "mean_squared_log_error:  0.0084\n",
      "r2:  0.8756\n",
      "MAE:  0.1002\n",
      "MSE:  0.0311\n",
      "RMSE:  0.1765\n"
     ]
    }
   ],
   "source": [
    "model = RandomForestRegressor()\n",
    "param_search = { \n",
    "    'n_estimators': [20, 50, 100],\n",
    "    'max_features': ['auto', 'sqrt', 'log2'],\n",
    "    'max_depth' : [i for i in range(5,15)]\n",
    "}\n",
    "tscv = TimeSeriesSplit(n_splits=10)\n",
    "gsearch = GridSearchCV(estimator=model, cv=tscv, param_grid=param_search, scoring = rmse_score)\n",
    "gsearch.fit(X_train_2o, y_train_2o)\n",
    "best_score = gsearch.best_score_\n",
    "best_model = gsearch.best_estimator_\n",
    "y_true = y_test.values\n",
    "y_pred = best_model.predict(X_test)\n",
    "regression_results(y_true, y_pred)"
   ]
  },
  {
   "cell_type": "code",
   "execution_count": 20,
   "id": "758406b5",
   "metadata": {},
   "outputs": [
    {
     "data": {
      "image/png": "[encoded data removed]",
      "text/plain": [
       "<Figure size 432x288 with 1 Axes>"
      ]
     },
     "metadata": {
      "needs_background": "light"
     },
     "output_type": "display_data"
    }
   ],
   "source": [
    "plt.scatter(y_test, y_pred, color='black')\n",
    "plt.plot(y_test, y_test, color='red', linewidth=2)\n",
    "plt.title('Random Forest on swell height prediction')\n",
    "plt.xlabel('Real values')\n",
    "plt.ylabel('Prediction')\n",
    "plt.show()"
   ]
  },
  {
   "cell_type": "markdown",
   "id": "0f9d8d90",
   "metadata": {},
   "source": [
    "### We can definetly see that the R^2 value has gone up"
   ]
  },
  {
   "cell_type": "markdown",
   "id": "e8181334",
   "metadata": {},
   "source": [
    "### Now lets see if adding another value like Swell Period would be beneficial"
   ]
  },
  {
   "cell_type": "code",
   "execution_count": 21,
   "id": "7b6ca1b5",
   "metadata": {},
   "outputs": [],
   "source": [
    "data_SH_2o_SP = data_SH_2o.join(df[['primary_swell_period']])\n",
    "data_SH_2o_SP = data_SH_2o_SP.dropna()"
   ]
  },
  {
   "cell_type": "code",
   "execution_count": 22,
   "id": "6d145dcd",
   "metadata": {},
   "outputs": [
    {
     "data": {
      "text/html": [
       "<div>\n",
       "<style scoped>\n",
       "    .dataframe tbody tr th:only-of-type {\n",
       "        vertical-align: middle;\n",
       "    }\n",
       "\n",
       "    .dataframe tbody tr th {\n",
       "        vertical-align: top;\n",
       "    }\n",
       "\n",
       "    .dataframe thead th {\n",
       "        text-align: right;\n",
       "    }\n",
       "</style>\n",
       "<table border=\"1\" class=\"dataframe\">\n",
       "  <thead>\n",
       "    <tr style=\"text-align: right;\">\n",
       "      <th></th>\n",
       "      <th>primary_swell_height</th>\n",
       "      <th>Yesterday</th>\n",
       "      <th>Yesterday_Diff</th>\n",
       "      <th>Yesterday-1</th>\n",
       "      <th>Yesterday-1_Diff</th>\n",
       "      <th>primary_swell_period</th>\n",
       "    </tr>\n",
       "    <tr>\n",
       "      <th>date</th>\n",
       "      <th></th>\n",
       "      <th></th>\n",
       "      <th></th>\n",
       "      <th></th>\n",
       "      <th></th>\n",
       "      <th></th>\n",
       "    </tr>\n",
       "  </thead>\n",
       "  <tbody>\n",
       "    <tr>\n",
       "      <th>2020-01-01 00:00:00</th>\n",
       "      <td>1.1</td>\n",
       "      <td>2.2</td>\n",
       "      <td>-0.1</td>\n",
       "      <td>2.3</td>\n",
       "      <td>-0.2</td>\n",
       "      <td>8</td>\n",
       "    </tr>\n",
       "    <tr>\n",
       "      <th>2020-01-01 00:00:00</th>\n",
       "      <td>1.1</td>\n",
       "      <td>2.2</td>\n",
       "      <td>-0.1</td>\n",
       "      <td>2.3</td>\n",
       "      <td>-0.2</td>\n",
       "      <td>8</td>\n",
       "    </tr>\n",
       "    <tr>\n",
       "      <th>2020-01-01 00:00:00</th>\n",
       "      <td>0.9</td>\n",
       "      <td>2.3</td>\n",
       "      <td>-0.2</td>\n",
       "      <td>2.5</td>\n",
       "      <td>-0.1</td>\n",
       "      <td>8</td>\n",
       "    </tr>\n",
       "    <tr>\n",
       "      <th>2020-01-01 00:00:00</th>\n",
       "      <td>0.9</td>\n",
       "      <td>2.3</td>\n",
       "      <td>-0.2</td>\n",
       "      <td>2.5</td>\n",
       "      <td>-0.1</td>\n",
       "      <td>8</td>\n",
       "    </tr>\n",
       "    <tr>\n",
       "      <th>2020-01-01 03:00:00</th>\n",
       "      <td>1.0</td>\n",
       "      <td>1.1</td>\n",
       "      <td>-1.1</td>\n",
       "      <td>2.2</td>\n",
       "      <td>-0.1</td>\n",
       "      <td>7</td>\n",
       "    </tr>\n",
       "    <tr>\n",
       "      <th>...</th>\n",
       "      <td>...</td>\n",
       "      <td>...</td>\n",
       "      <td>...</td>\n",
       "      <td>...</td>\n",
       "      <td>...</td>\n",
       "      <td>...</td>\n",
       "    </tr>\n",
       "    <tr>\n",
       "      <th>2021-12-31 18:00:00</th>\n",
       "      <td>0.8</td>\n",
       "      <td>1.0</td>\n",
       "      <td>0.0</td>\n",
       "      <td>1.0</td>\n",
       "      <td>0.1</td>\n",
       "      <td>8</td>\n",
       "    </tr>\n",
       "    <tr>\n",
       "      <th>2021-12-31 18:00:00</th>\n",
       "      <td>0.8</td>\n",
       "      <td>1.0</td>\n",
       "      <td>0.0</td>\n",
       "      <td>1.0</td>\n",
       "      <td>0.1</td>\n",
       "      <td>8</td>\n",
       "    </tr>\n",
       "    <tr>\n",
       "      <th>2021-12-31 18:00:00</th>\n",
       "      <td>0.9</td>\n",
       "      <td>0.9</td>\n",
       "      <td>-0.2</td>\n",
       "      <td>1.1</td>\n",
       "      <td>0.2</td>\n",
       "      <td>8</td>\n",
       "    </tr>\n",
       "    <tr>\n",
       "      <th>2021-12-31 18:00:00</th>\n",
       "      <td>0.9</td>\n",
       "      <td>0.9</td>\n",
       "      <td>-0.2</td>\n",
       "      <td>1.1</td>\n",
       "      <td>0.2</td>\n",
       "      <td>8</td>\n",
       "    </tr>\n",
       "    <tr>\n",
       "      <th>2021-12-31 21:00:00</th>\n",
       "      <td>0.8</td>\n",
       "      <td>0.8</td>\n",
       "      <td>-0.2</td>\n",
       "      <td>1.0</td>\n",
       "      <td>0.0</td>\n",
       "      <td>8</td>\n",
       "    </tr>\n",
       "  </tbody>\n",
       "</table>\n",
       "<p>17194 rows × 6 columns</p>\n",
       "</div>"
      ],
      "text/plain": [
       "                     primary_swell_height  Yesterday  Yesterday_Diff  \\\n",
       "date                                                                   \n",
       "2020-01-01 00:00:00                   1.1        2.2            -0.1   \n",
       "2020-01-01 00:00:00                   1.1        2.2            -0.1   \n",
       "2020-01-01 00:00:00                   0.9        2.3            -0.2   \n",
       "2020-01-01 00:00:00                   0.9        2.3            -0.2   \n",
       "2020-01-01 03:00:00                   1.0        1.1            -1.1   \n",
       "...                                   ...        ...             ...   \n",
       "2021-12-31 18:00:00                   0.8        1.0             0.0   \n",
       "2021-12-31 18:00:00                   0.8        1.0             0.0   \n",
       "2021-12-31 18:00:00                   0.9        0.9            -0.2   \n",
       "2021-12-31 18:00:00                   0.9        0.9            -0.2   \n",
       "2021-12-31 21:00:00                   0.8        0.8            -0.2   \n",
       "\n",
       "                     Yesterday-1  Yesterday-1_Diff  primary_swell_period  \n",
       "date                                                                      \n",
       "2020-01-01 00:00:00          2.3              -0.2                     8  \n",
       "2020-01-01 00:00:00          2.3              -0.2                     8  \n",
       "2020-01-01 00:00:00          2.5              -0.1                     8  \n",
       "2020-01-01 00:00:00          2.5              -0.1                     8  \n",
       "2020-01-01 03:00:00          2.2              -0.1                     7  \n",
       "...                          ...               ...                   ...  \n",
       "2021-12-31 18:00:00          1.0               0.1                     8  \n",
       "2021-12-31 18:00:00          1.0               0.1                     8  \n",
       "2021-12-31 18:00:00          1.1               0.2                     8  \n",
       "2021-12-31 18:00:00          1.1               0.2                     8  \n",
       "2021-12-31 21:00:00          1.0               0.0                     8  \n",
       "\n",
       "[17194 rows x 6 columns]"
      ]
     },
     "execution_count": 22,
     "metadata": {},
     "output_type": "execute_result"
    }
   ],
   "source": [
    "data_SH_2o_SP"
   ]
  },
  {
   "cell_type": "markdown",
   "id": "8245a753",
   "metadata": {},
   "source": [
    "### And again, we repeat the steps. Updating train, test sets + Checkinig performance"
   ]
  },
  {
   "cell_type": "code",
   "execution_count": 23,
   "id": "aab529d9",
   "metadata": {},
   "outputs": [
    {
     "name": "stdout",
     "output_type": "stream",
     "text": [
      "explained_variance:  0.8612\n",
      "mean_squared_log_error:  0.0104\n",
      "r2:  0.8612\n",
      "MAE:  0.1192\n",
      "MSE:  0.0388\n",
      "RMSE:  0.197\n"
     ]
    }
   ],
   "source": [
    "X_train_2o_SP = data_SH_2o_SP.loc[:'2021-06-01'].drop(['primary_swell_height'], axis = 1)\n",
    "y_train_2o_SP = data_SH_2o_SP.loc[:'2021-06-01', 'primary_swell_height']\n",
    "X_test = data_SH_2o_SP.loc['2021-06-02':'2021-12-31 00:00:00'].drop(['primary_swell_height'], axis = 1)\n",
    "y_test = data_SH_2o_SP.loc['2021-06-02':'2021-12-31 00:00:00', 'primary_swell_height']\n",
    "model = RandomForestRegressor()\n",
    "param_search = { \n",
    "    'n_estimators': [20, 50, 100],\n",
    "    'max_features': ['auto', 'sqrt', 'log2'],\n",
    "    'max_depth' : [i for i in range(5,15)]\n",
    "}\n",
    "tscv = TimeSeriesSplit(n_splits=5)\n",
    "gsearch = GridSearchCV(estimator=model, cv=tscv, param_grid=param_search, scoring = rmse_score)\n",
    "gsearch.fit(X_train_2o_SP, y_train_2o_SP)\n",
    "best_score = gsearch.best_score_\n",
    "best_model = gsearch.best_estimator_\n",
    "y_true = y_test.values\n",
    "y_pred = best_model.predict(X_test)\n",
    "regression_results(y_true, y_pred)"
   ]
  },
  {
   "cell_type": "code",
   "execution_count": 24,
   "id": "e501789d",
   "metadata": {},
   "outputs": [
    {
     "data": {
      "image/png": "[encoded data removed]",
      "text/plain": [
       "<Figure size 432x288 with 1 Axes>"
      ]
     },
     "metadata": {
      "needs_background": "light"
     },
     "output_type": "display_data"
    }
   ],
   "source": [
    "plt.scatter(y_test, y_pred, color='black')\n",
    "plt.plot(y_test, y_test, color='red', linewidth=2)\n",
    "plt.title('Random Forest on swell height prediction')\n",
    "plt.xlabel('Real values')\n",
    "plt.ylabel('Prediction')\n",
    "plt.show()"
   ]
  },
  {
   "cell_type": "markdown",
   "id": "f66a742b",
   "metadata": {},
   "source": [
    "### This time, our R^2 has been dropped a little.\n",
    "#### Lets see a variable importance plot"
   ]
  },
  {
   "cell_type": "code",
   "execution_count": 25,
   "id": "bb5cd783",
   "metadata": {
    "scrolled": true
   },
   "outputs": [
    {
     "data": {
      "image/png": "[encoded data removed]",
      "text/plain": [
       "<Figure size 432x288 with 1 Axes>"
      ]
     },
     "metadata": {
      "needs_background": "light"
     },
     "output_type": "display_data"
    }
   ],
   "source": [
    "imp = best_model.feature_importances_\n",
    "features = data_SH_2o_SP.columns\n",
    "indices = np.argsort(imp)\n",
    "plt.title('Feature Importances')\n",
    "plt.barh(range(len(indices)), imp[indices], color='b', align='center')\n",
    "plt.yticks(range(len(indices)), [features[i] for i in indices -2])\n",
    "plt.xlabel('Relative Importance')\n",
    "plt.show()"
   ]
  },
  {
   "cell_type": "markdown",
   "id": "25d5962d",
   "metadata": {},
   "source": [
    "### Now as we already know how to check the time series, let's check the Swell Height in the week prior to the given date."
   ]
  },
  {
   "cell_type": "code",
   "execution_count": 26,
   "id": "a80692e6",
   "metadata": {},
   "outputs": [],
   "source": [
    "data_SH_2o_SP_weeklyShift = data_SH_2o_SP.copy()\n",
    "data_SH_2o_SP_weeklyShift['Last_Week'] = data_SH_2o_SP['primary_swell_height'].shift(7)\n",
    "data_SH_2o_SP_weeklyShift = data_SH_2o_SP_weeklyShift.dropna()"
   ]
  },
  {
   "cell_type": "code",
   "execution_count": 27,
   "id": "2f88b852",
   "metadata": {},
   "outputs": [
    {
     "data": {
      "text/html": [
       "<div>\n",
       "<style scoped>\n",
       "    .dataframe tbody tr th:only-of-type {\n",
       "        vertical-align: middle;\n",
       "    }\n",
       "\n",
       "    .dataframe tbody tr th {\n",
       "        vertical-align: top;\n",
       "    }\n",
       "\n",
       "    .dataframe thead th {\n",
       "        text-align: right;\n",
       "    }\n",
       "</style>\n",
       "<table border=\"1\" class=\"dataframe\">\n",
       "  <thead>\n",
       "    <tr style=\"text-align: right;\">\n",
       "      <th></th>\n",
       "      <th>primary_swell_height</th>\n",
       "      <th>Yesterday</th>\n",
       "      <th>Yesterday_Diff</th>\n",
       "      <th>Yesterday-1</th>\n",
       "      <th>Yesterday-1_Diff</th>\n",
       "      <th>primary_swell_period</th>\n",
       "      <th>Last_Week</th>\n",
       "    </tr>\n",
       "    <tr>\n",
       "      <th>date</th>\n",
       "      <th></th>\n",
       "      <th></th>\n",
       "      <th></th>\n",
       "      <th></th>\n",
       "      <th></th>\n",
       "      <th></th>\n",
       "      <th></th>\n",
       "    </tr>\n",
       "  </thead>\n",
       "  <tbody>\n",
       "    <tr>\n",
       "      <th>2020-01-01 03:00:00</th>\n",
       "      <td>0.9</td>\n",
       "      <td>0.9</td>\n",
       "      <td>-1.4</td>\n",
       "      <td>2.3</td>\n",
       "      <td>-0.2</td>\n",
       "      <td>7</td>\n",
       "      <td>1.1</td>\n",
       "    </tr>\n",
       "    <tr>\n",
       "      <th>2020-01-01 06:00:00</th>\n",
       "      <td>0.9</td>\n",
       "      <td>1.0</td>\n",
       "      <td>-0.1</td>\n",
       "      <td>1.1</td>\n",
       "      <td>-1.1</td>\n",
       "      <td>7</td>\n",
       "      <td>1.1</td>\n",
       "    </tr>\n",
       "    <tr>\n",
       "      <th>2020-01-01 06:00:00</th>\n",
       "      <td>0.9</td>\n",
       "      <td>1.0</td>\n",
       "      <td>-0.1</td>\n",
       "      <td>1.1</td>\n",
       "      <td>-1.1</td>\n",
       "      <td>7</td>\n",
       "      <td>0.9</td>\n",
       "    </tr>\n",
       "    <tr>\n",
       "      <th>2020-01-01 06:00:00</th>\n",
       "      <td>0.8</td>\n",
       "      <td>0.9</td>\n",
       "      <td>0.0</td>\n",
       "      <td>0.9</td>\n",
       "      <td>-1.4</td>\n",
       "      <td>7</td>\n",
       "      <td>0.9</td>\n",
       "    </tr>\n",
       "    <tr>\n",
       "      <th>2020-01-01 06:00:00</th>\n",
       "      <td>0.8</td>\n",
       "      <td>0.9</td>\n",
       "      <td>0.0</td>\n",
       "      <td>0.9</td>\n",
       "      <td>-1.4</td>\n",
       "      <td>7</td>\n",
       "      <td>1.0</td>\n",
       "    </tr>\n",
       "    <tr>\n",
       "      <th>...</th>\n",
       "      <td>...</td>\n",
       "      <td>...</td>\n",
       "      <td>...</td>\n",
       "      <td>...</td>\n",
       "      <td>...</td>\n",
       "      <td>...</td>\n",
       "      <td>...</td>\n",
       "    </tr>\n",
       "    <tr>\n",
       "      <th>2021-12-31 18:00:00</th>\n",
       "      <td>0.8</td>\n",
       "      <td>1.0</td>\n",
       "      <td>0.0</td>\n",
       "      <td>1.0</td>\n",
       "      <td>0.1</td>\n",
       "      <td>8</td>\n",
       "      <td>1.1</td>\n",
       "    </tr>\n",
       "    <tr>\n",
       "      <th>2021-12-31 18:00:00</th>\n",
       "      <td>0.8</td>\n",
       "      <td>1.0</td>\n",
       "      <td>0.0</td>\n",
       "      <td>1.0</td>\n",
       "      <td>0.1</td>\n",
       "      <td>8</td>\n",
       "      <td>1.1</td>\n",
       "    </tr>\n",
       "    <tr>\n",
       "      <th>2021-12-31 18:00:00</th>\n",
       "      <td>0.9</td>\n",
       "      <td>0.9</td>\n",
       "      <td>-0.2</td>\n",
       "      <td>1.1</td>\n",
       "      <td>0.2</td>\n",
       "      <td>8</td>\n",
       "      <td>1.0</td>\n",
       "    </tr>\n",
       "    <tr>\n",
       "      <th>2021-12-31 18:00:00</th>\n",
       "      <td>0.9</td>\n",
       "      <td>0.9</td>\n",
       "      <td>-0.2</td>\n",
       "      <td>1.1</td>\n",
       "      <td>0.2</td>\n",
       "      <td>8</td>\n",
       "      <td>1.0</td>\n",
       "    </tr>\n",
       "    <tr>\n",
       "      <th>2021-12-31 21:00:00</th>\n",
       "      <td>0.8</td>\n",
       "      <td>0.8</td>\n",
       "      <td>-0.2</td>\n",
       "      <td>1.0</td>\n",
       "      <td>0.0</td>\n",
       "      <td>8</td>\n",
       "      <td>1.0</td>\n",
       "    </tr>\n",
       "  </tbody>\n",
       "</table>\n",
       "<p>17187 rows × 7 columns</p>\n",
       "</div>"
      ],
      "text/plain": [
       "                     primary_swell_height  Yesterday  Yesterday_Diff  \\\n",
       "date                                                                   \n",
       "2020-01-01 03:00:00                   0.9        0.9            -1.4   \n",
       "2020-01-01 06:00:00                   0.9        1.0            -0.1   \n",
       "2020-01-01 06:00:00                   0.9        1.0            -0.1   \n",
       "2020-01-01 06:00:00                   0.8        0.9             0.0   \n",
       "2020-01-01 06:00:00                   0.8        0.9             0.0   \n",
       "...                                   ...        ...             ...   \n",
       "2021-12-31 18:00:00                   0.8        1.0             0.0   \n",
       "2021-12-31 18:00:00                   0.8        1.0             0.0   \n",
       "2021-12-31 18:00:00                   0.9        0.9            -0.2   \n",
       "2021-12-31 18:00:00                   0.9        0.9            -0.2   \n",
       "2021-12-31 21:00:00                   0.8        0.8            -0.2   \n",
       "\n",
       "                     Yesterday-1  Yesterday-1_Diff  primary_swell_period  \\\n",
       "date                                                                       \n",
       "2020-01-01 03:00:00          2.3              -0.2                     7   \n",
       "2020-01-01 06:00:00          1.1              -1.1                     7   \n",
       "2020-01-01 06:00:00          1.1              -1.1                     7   \n",
       "2020-01-01 06:00:00          0.9              -1.4                     7   \n",
       "2020-01-01 06:00:00          0.9              -1.4                     7   \n",
       "...                          ...               ...                   ...   \n",
       "2021-12-31 18:00:00          1.0               0.1                     8   \n",
       "2021-12-31 18:00:00          1.0               0.1                     8   \n",
       "2021-12-31 18:00:00          1.1               0.2                     8   \n",
       "2021-12-31 18:00:00          1.1               0.2                     8   \n",
       "2021-12-31 21:00:00          1.0               0.0                     8   \n",
       "\n",
       "                     Last_Week  \n",
       "date                            \n",
       "2020-01-01 03:00:00        1.1  \n",
       "2020-01-01 06:00:00        1.1  \n",
       "2020-01-01 06:00:00        0.9  \n",
       "2020-01-01 06:00:00        0.9  \n",
       "2020-01-01 06:00:00        1.0  \n",
       "...                        ...  \n",
       "2021-12-31 18:00:00        1.1  \n",
       "2021-12-31 18:00:00        1.1  \n",
       "2021-12-31 18:00:00        1.0  \n",
       "2021-12-31 18:00:00        1.0  \n",
       "2021-12-31 21:00:00        1.0  \n",
       "\n",
       "[17187 rows x 7 columns]"
      ]
     },
     "execution_count": 27,
     "metadata": {},
     "output_type": "execute_result"
    }
   ],
   "source": [
    "data_SH_2o_SP_weeklyShift"
   ]
  },
  {
   "cell_type": "markdown",
   "id": "1e5a76d5",
   "metadata": {},
   "source": [
    "### And again, we repeat the steps. Updating train, test sets + Checkinig performance"
   ]
  },
  {
   "cell_type": "code",
   "execution_count": 28,
   "id": "9e289a20",
   "metadata": {},
   "outputs": [
    {
     "name": "stdout",
     "output_type": "stream",
     "text": [
      "explained_variance:  0.8858\n",
      "mean_squared_log_error:  0.0088\n",
      "r2:  0.8858\n",
      "MAE:  0.1131\n",
      "MSE:  0.0319\n",
      "RMSE:  0.1787\n"
     ]
    }
   ],
   "source": [
    "X_train_2o_SP_weeklyShift = data_SH_2o_SP_weeklyShift.loc[:'2021-06-01'].drop(['primary_swell_height'], axis = 1)\n",
    "y_train_2o_SP_weeklyShift = data_SH_2o_SP_weeklyShift.loc[:'2021-06-01', 'primary_swell_height']\n",
    "X_test = data_SH_2o_SP_weeklyShift.loc['2021-06-02':'2021-12-31 00:00:00'].drop(['primary_swell_height'], axis = 1)\n",
    "y_test = data_SH_2o_SP_weeklyShift.loc['2021-06-02':'2021-12-31 00:00:00', 'primary_swell_height']\n",
    "model = RandomForestRegressor()\n",
    "param_search = { \n",
    "    'n_estimators': [20, 50, 100],\n",
    "    'max_features': ['auto', 'sqrt', 'log2'],\n",
    "    'max_depth' : [i for i in range(5,15)]\n",
    "}\n",
    "tscv = TimeSeriesSplit(n_splits=10)\n",
    "gsearch = GridSearchCV(estimator=model, cv=tscv, param_grid=param_search, scoring = rmse_score)\n",
    "gsearch.fit(X_train_2o_SP_weeklyShift, y_train_2o_SP_weeklyShift)\n",
    "best_score = gsearch.best_score_\n",
    "best_model = gsearch.best_estimator_\n",
    "y_true = y_test.values\n",
    "y_pred = best_model.predict(X_test)\n",
    "regression_results(y_true, y_pred)"
   ]
  },
  {
   "cell_type": "code",
   "execution_count": 29,
   "id": "ae51e077",
   "metadata": {},
   "outputs": [
    {
     "data": {
      "image/png": "[encoded data removed]",
      "text/plain": [
       "<Figure size 432x288 with 1 Axes>"
      ]
     },
     "metadata": {
      "needs_background": "light"
     },
     "output_type": "display_data"
    }
   ],
   "source": [
    "plt.scatter(y_test, y_pred, color='black')\n",
    "plt.plot(y_test, y_test, color='red', linewidth=2)\n",
    "plt.title('Random Forest on swell height prediction')\n",
    "plt.xlabel('Real values')\n",
    "plt.ylabel('Prediction')\n",
    "plt.show()"
   ]
  },
  {
   "cell_type": "markdown",
   "id": "e7aac55d",
   "metadata": {},
   "source": [
    "##### Now our R^2 has gone way up! it's 88.58% and our RMSE has gone down!"
   ]
  },
  {
   "cell_type": "code",
   "execution_count": 30,
   "id": "46bf2988",
   "metadata": {},
   "outputs": [
    {
     "data": {
      "image/png": "[encoded data removed]",
      "text/plain": [
       "<Figure size 432x288 with 1 Axes>"
      ]
     },
     "metadata": {
      "needs_background": "light"
     },
     "output_type": "display_data"
    }
   ],
   "source": [
    "imp = best_model.feature_importances_\n",
    "features = data_SH_2o_SP_weeklyShift.columns\n",
    "indices = np.argsort(imp)\n",
    "plt.title('Feature Importances')\n",
    "plt.barh(range(len(indices)), imp[indices], color='b', align='center')\n",
    "plt.yticks(range(len(indices)), [features[i] for i in indices -2])\n",
    "plt.xlabel('Relative Importance')\n",
    "plt.show()"
   ]
  }
 ],
 "metadata": {
  "kernelspec": {
   "display_name": "Python 3",
   "language": "python",
   "name": "python3"
  },
  "language_info": {
   "codemirror_mode": {
    "name": "ipython",
    "version": 3
   },
   "file_extension": ".py",
   "mimetype": "text/x-python",
   "name": "python",
   "nbconvert_exporter": "python",
   "pygments_lexer": "ipython3",
   "version": "3.8.8"
  }
 },
 "nbformat": 4,
 "nbformat_minor": 5
}
